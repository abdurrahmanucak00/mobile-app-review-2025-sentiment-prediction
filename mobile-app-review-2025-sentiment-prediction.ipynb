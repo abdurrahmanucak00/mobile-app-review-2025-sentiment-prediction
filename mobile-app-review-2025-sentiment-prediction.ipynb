{
 "cells": [
  {
   "cell_type": "code",
   "execution_count": 1,
   "id": "70094917",
   "metadata": {
    "_cell_guid": "b1076dfc-b9ad-4769-8c92-a6c4dae69d19",
    "_uuid": "8f2839f25d086af736a60e9eeb907d3b93b6e0e5",
    "execution": {
     "iopub.execute_input": "2025-08-29T05:26:53.064260Z",
     "iopub.status.busy": "2025-08-29T05:26:53.063928Z",
     "iopub.status.idle": "2025-08-29T05:26:54.955741Z",
     "shell.execute_reply": "2025-08-29T05:26:54.954752Z"
    },
    "papermill": {
     "duration": 1.900674,
     "end_time": "2025-08-29T05:26:54.957546",
     "exception": false,
     "start_time": "2025-08-29T05:26:53.056872",
     "status": "completed"
    },
    "tags": []
   },
   "outputs": [
    {
     "name": "stdout",
     "output_type": "stream",
     "text": [
      "/kaggle/input/multilingual-mobile-app-reviews-dataset-2025/multilingual_mobile_app_reviews_2025.csv\n"
     ]
    }
   ],
   "source": [
    "# This Python 3 environment comes with many helpful analytics libraries installed\n",
    "# It is defined by the kaggle/python Docker image: https://github.com/kaggle/docker-python\n",
    "# For example, here's several helpful packages to load\n",
    "\n",
    "import numpy as np # linear algebra\n",
    "import pandas as pd # data processing, CSV file I/O (e.g. pd.read_csv)\n",
    "\n",
    "# Input data files are available in the read-only \"../input/\" directory\n",
    "# For example, running this (by clicking run or pressing Shift+Enter) will list all files under the input directory\n",
    "\n",
    "import os\n",
    "for dirname, _, filenames in os.walk('/kaggle/input'):\n",
    "    for filename in filenames:\n",
    "        print(os.path.join(dirname, filename))\n",
    "\n",
    "# You can write up to 20GB to the current directory (/kaggle/working/) that gets preserved as output when you create a version using \"Save & Run All\" \n",
    "# You can also write temporary files to /kaggle/temp/, but they won't be saved outside of the current session"
   ]
  },
  {
   "cell_type": "code",
   "execution_count": 2,
   "id": "503fc0a8",
   "metadata": {
    "execution": {
     "iopub.execute_input": "2025-08-29T05:26:54.969459Z",
     "iopub.status.busy": "2025-08-29T05:26:54.969023Z",
     "iopub.status.idle": "2025-08-29T05:26:55.037129Z",
     "shell.execute_reply": "2025-08-29T05:26:55.036185Z"
    },
    "papermill": {
     "duration": 0.075718,
     "end_time": "2025-08-29T05:26:55.038730",
     "exception": false,
     "start_time": "2025-08-29T05:26:54.963012",
     "status": "completed"
    },
    "tags": []
   },
   "outputs": [
    {
     "data": {
      "text/html": [
       "<div>\n",
       "<style scoped>\n",
       "    .dataframe tbody tr th:only-of-type {\n",
       "        vertical-align: middle;\n",
       "    }\n",
       "\n",
       "    .dataframe tbody tr th {\n",
       "        vertical-align: top;\n",
       "    }\n",
       "\n",
       "    .dataframe thead th {\n",
       "        text-align: right;\n",
       "    }\n",
       "</style>\n",
       "<table border=\"1\" class=\"dataframe\">\n",
       "  <thead>\n",
       "    <tr style=\"text-align: right;\">\n",
       "      <th></th>\n",
       "      <th>review_id</th>\n",
       "      <th>user_id</th>\n",
       "      <th>app_name</th>\n",
       "      <th>app_category</th>\n",
       "      <th>review_text</th>\n",
       "      <th>review_language</th>\n",
       "      <th>rating</th>\n",
       "      <th>review_date</th>\n",
       "      <th>verified_purchase</th>\n",
       "      <th>device_type</th>\n",
       "      <th>num_helpful_votes</th>\n",
       "      <th>user_age</th>\n",
       "      <th>user_country</th>\n",
       "      <th>user_gender</th>\n",
       "      <th>app_version</th>\n",
       "    </tr>\n",
       "  </thead>\n",
       "  <tbody>\n",
       "    <tr>\n",
       "      <th>0</th>\n",
       "      <td>1</td>\n",
       "      <td>1967825</td>\n",
       "      <td>MX Player</td>\n",
       "      <td>Travel &amp; Local</td>\n",
       "      <td>Qui doloribus consequuntur. Perspiciatis tempo...</td>\n",
       "      <td>no</td>\n",
       "      <td>1.3</td>\n",
       "      <td>2024-10-09 19:26:40</td>\n",
       "      <td>True</td>\n",
       "      <td>Android Tablet</td>\n",
       "      <td>65</td>\n",
       "      <td>14.0</td>\n",
       "      <td>China</td>\n",
       "      <td>Female</td>\n",
       "      <td>1.4</td>\n",
       "    </tr>\n",
       "    <tr>\n",
       "      <th>1</th>\n",
       "      <td>2</td>\n",
       "      <td>9242600</td>\n",
       "      <td>Tinder</td>\n",
       "      <td>Navigation</td>\n",
       "      <td>Great app but too many ads, consider premium v...</td>\n",
       "      <td>ru</td>\n",
       "      <td>1.6</td>\n",
       "      <td>2024-06-21 17:29:40</td>\n",
       "      <td>True</td>\n",
       "      <td>iPad</td>\n",
       "      <td>209</td>\n",
       "      <td>18.0</td>\n",
       "      <td>Germany</td>\n",
       "      <td>Male</td>\n",
       "      <td>8.9</td>\n",
       "    </tr>\n",
       "    <tr>\n",
       "      <th>2</th>\n",
       "      <td>3</td>\n",
       "      <td>7636477</td>\n",
       "      <td>Netflix</td>\n",
       "      <td>Dating</td>\n",
       "      <td>The interface could be better but overall good...</td>\n",
       "      <td>es</td>\n",
       "      <td>3.6</td>\n",
       "      <td>2024-10-31 13:47:12</td>\n",
       "      <td>True</td>\n",
       "      <td>iPad</td>\n",
       "      <td>163</td>\n",
       "      <td>67.0</td>\n",
       "      <td>Nigeria</td>\n",
       "      <td>Male</td>\n",
       "      <td>2.8.37.5926</td>\n",
       "    </tr>\n",
       "    <tr>\n",
       "      <th>3</th>\n",
       "      <td>4</td>\n",
       "      <td>209031</td>\n",
       "      <td>Venmo</td>\n",
       "      <td>Productivity</td>\n",
       "      <td>Latest update broke some features, please fix ...</td>\n",
       "      <td>vi</td>\n",
       "      <td>3.8</td>\n",
       "      <td>2025-03-12 06:16:22</td>\n",
       "      <td>True</td>\n",
       "      <td>iOS</td>\n",
       "      <td>664</td>\n",
       "      <td>66.0</td>\n",
       "      <td>India</td>\n",
       "      <td>Female</td>\n",
       "      <td>10.2</td>\n",
       "    </tr>\n",
       "    <tr>\n",
       "      <th>4</th>\n",
       "      <td>5</td>\n",
       "      <td>7190293</td>\n",
       "      <td>Google Drive</td>\n",
       "      <td>Education</td>\n",
       "      <td>Perfect for daily use, highly recommend to eve...</td>\n",
       "      <td>tl</td>\n",
       "      <td>3.2</td>\n",
       "      <td>2024-04-21 03:48:27</td>\n",
       "      <td>True</td>\n",
       "      <td>iPad</td>\n",
       "      <td>1197</td>\n",
       "      <td>40.0</td>\n",
       "      <td>South Korea</td>\n",
       "      <td>Prefer not to say</td>\n",
       "      <td>4.7</td>\n",
       "    </tr>\n",
       "  </tbody>\n",
       "</table>\n",
       "</div>"
      ],
      "text/plain": [
       "   review_id  user_id      app_name    app_category  \\\n",
       "0          1  1967825     MX Player  Travel & Local   \n",
       "1          2  9242600        Tinder      Navigation   \n",
       "2          3  7636477       Netflix          Dating   \n",
       "3          4   209031         Venmo    Productivity   \n",
       "4          5  7190293  Google Drive       Education   \n",
       "\n",
       "                                         review_text review_language  rating  \\\n",
       "0  Qui doloribus consequuntur. Perspiciatis tempo...              no     1.3   \n",
       "1  Great app but too many ads, consider premium v...              ru     1.6   \n",
       "2  The interface could be better but overall good...              es     3.6   \n",
       "3  Latest update broke some features, please fix ...              vi     3.8   \n",
       "4  Perfect for daily use, highly recommend to eve...              tl     3.2   \n",
       "\n",
       "           review_date  verified_purchase     device_type  num_helpful_votes  \\\n",
       "0  2024-10-09 19:26:40               True  Android Tablet                 65   \n",
       "1  2024-06-21 17:29:40               True            iPad                209   \n",
       "2  2024-10-31 13:47:12               True            iPad                163   \n",
       "3  2025-03-12 06:16:22               True             iOS                664   \n",
       "4  2024-04-21 03:48:27               True            iPad               1197   \n",
       "\n",
       "   user_age user_country        user_gender  app_version  \n",
       "0      14.0        China             Female          1.4  \n",
       "1      18.0      Germany               Male          8.9  \n",
       "2      67.0      Nigeria               Male  2.8.37.5926  \n",
       "3      66.0        India             Female         10.2  \n",
       "4      40.0  South Korea  Prefer not to say          4.7  "
      ]
     },
     "execution_count": 2,
     "metadata": {},
     "output_type": "execute_result"
    }
   ],
   "source": [
    "df=pd.read_csv(\"/kaggle/input/multilingual-mobile-app-reviews-dataset-2025/multilingual_mobile_app_reviews_2025.csv\")\n",
    "df.head()"
   ]
  },
  {
   "cell_type": "code",
   "execution_count": 3,
   "id": "8df96b09",
   "metadata": {
    "execution": {
     "iopub.execute_input": "2025-08-29T05:26:55.050218Z",
     "iopub.status.busy": "2025-08-29T05:26:55.049872Z",
     "iopub.status.idle": "2025-08-29T05:26:55.064501Z",
     "shell.execute_reply": "2025-08-29T05:26:55.063640Z"
    },
    "papermill": {
     "duration": 0.022185,
     "end_time": "2025-08-29T05:26:55.066077",
     "exception": false,
     "start_time": "2025-08-29T05:26:55.043892",
     "status": "completed"
    },
    "tags": []
   },
   "outputs": [
    {
     "data": {
      "text/html": [
       "<div>\n",
       "<style scoped>\n",
       "    .dataframe tbody tr th:only-of-type {\n",
       "        vertical-align: middle;\n",
       "    }\n",
       "\n",
       "    .dataframe tbody tr th {\n",
       "        vertical-align: top;\n",
       "    }\n",
       "\n",
       "    .dataframe thead th {\n",
       "        text-align: right;\n",
       "    }\n",
       "</style>\n",
       "<table border=\"1\" class=\"dataframe\">\n",
       "  <thead>\n",
       "    <tr style=\"text-align: right;\">\n",
       "      <th></th>\n",
       "      <th>review_id</th>\n",
       "      <th>user_id</th>\n",
       "      <th>app_name</th>\n",
       "      <th>app_category</th>\n",
       "      <th>review_text</th>\n",
       "      <th>review_language</th>\n",
       "      <th>rating</th>\n",
       "      <th>review_date</th>\n",
       "      <th>verified_purchase</th>\n",
       "      <th>device_type</th>\n",
       "      <th>num_helpful_votes</th>\n",
       "      <th>user_age</th>\n",
       "      <th>user_country</th>\n",
       "      <th>user_gender</th>\n",
       "      <th>app_version</th>\n",
       "    </tr>\n",
       "  </thead>\n",
       "  <tbody>\n",
       "    <tr>\n",
       "      <th>2509</th>\n",
       "      <td>2510</td>\n",
       "      <td>2322118</td>\n",
       "      <td>OneDrive</td>\n",
       "      <td>Business</td>\n",
       "      <td>Счастье низкий пастух. Нож неожиданно поезд тр...</td>\n",
       "      <td>nl</td>\n",
       "      <td>3.0</td>\n",
       "      <td>2023-11-23 01:07:30</td>\n",
       "      <td>False</td>\n",
       "      <td>iOS</td>\n",
       "      <td>635</td>\n",
       "      <td>21.0</td>\n",
       "      <td>Malaysia</td>\n",
       "      <td>Non-binary</td>\n",
       "      <td>1.1.2-beta</td>\n",
       "    </tr>\n",
       "    <tr>\n",
       "      <th>2510</th>\n",
       "      <td>2511</td>\n",
       "      <td>2167693</td>\n",
       "      <td>Signal</td>\n",
       "      <td>Finance</td>\n",
       "      <td>This app is amazing! Really love the new featu...</td>\n",
       "      <td>ms</td>\n",
       "      <td>1.9</td>\n",
       "      <td>2025-06-05 16:42:20</td>\n",
       "      <td>True</td>\n",
       "      <td>Windows Phone</td>\n",
       "      <td>1127</td>\n",
       "      <td>38.0</td>\n",
       "      <td>Bangladesh</td>\n",
       "      <td>NaN</td>\n",
       "      <td>v12.0.80</td>\n",
       "    </tr>\n",
       "    <tr>\n",
       "      <th>2511</th>\n",
       "      <td>2512</td>\n",
       "      <td>5554467</td>\n",
       "      <td>OneDrive</td>\n",
       "      <td>Social Networking</td>\n",
       "      <td>This app is amazing! Really love the new featu...</td>\n",
       "      <td>zh</td>\n",
       "      <td>3.4</td>\n",
       "      <td>2024-06-15 05:02:18</td>\n",
       "      <td>True</td>\n",
       "      <td>Android Tablet</td>\n",
       "      <td>677</td>\n",
       "      <td>27.0</td>\n",
       "      <td>Pakistan</td>\n",
       "      <td>NaN</td>\n",
       "      <td>9.1.32.4821</td>\n",
       "    </tr>\n",
       "    <tr>\n",
       "      <th>2512</th>\n",
       "      <td>2513</td>\n",
       "      <td>8805125</td>\n",
       "      <td>Coursera</td>\n",
       "      <td>Social Networking</td>\n",
       "      <td>Invitare convincere pericoloso corsa fortuna. ...</td>\n",
       "      <td>da</td>\n",
       "      <td>2.7</td>\n",
       "      <td>2023-12-02 01:41:31</td>\n",
       "      <td>True</td>\n",
       "      <td>Android</td>\n",
       "      <td>155</td>\n",
       "      <td>35.0</td>\n",
       "      <td>India</td>\n",
       "      <td>NaN</td>\n",
       "      <td>v8.9.13</td>\n",
       "    </tr>\n",
       "    <tr>\n",
       "      <th>2513</th>\n",
       "      <td>2514</td>\n",
       "      <td>1099793</td>\n",
       "      <td>Venmo</td>\n",
       "      <td>Education</td>\n",
       "      <td>Latest update broke some features, please fix ...</td>\n",
       "      <td>it</td>\n",
       "      <td>2.1</td>\n",
       "      <td>2025-03-04 02:51:17</td>\n",
       "      <td>True</td>\n",
       "      <td>Android</td>\n",
       "      <td>1040</td>\n",
       "      <td>26.0</td>\n",
       "      <td>Bangladesh</td>\n",
       "      <td>Prefer not to say</td>\n",
       "      <td>2.2</td>\n",
       "    </tr>\n",
       "  </tbody>\n",
       "</table>\n",
       "</div>"
      ],
      "text/plain": [
       "      review_id  user_id  app_name       app_category  \\\n",
       "2509       2510  2322118  OneDrive           Business   \n",
       "2510       2511  2167693    Signal            Finance   \n",
       "2511       2512  5554467  OneDrive  Social Networking   \n",
       "2512       2513  8805125  Coursera  Social Networking   \n",
       "2513       2514  1099793     Venmo          Education   \n",
       "\n",
       "                                            review_text review_language  \\\n",
       "2509  Счастье низкий пастух. Нож неожиданно поезд тр...              nl   \n",
       "2510  This app is amazing! Really love the new featu...              ms   \n",
       "2511  This app is amazing! Really love the new featu...              zh   \n",
       "2512  Invitare convincere pericoloso corsa fortuna. ...              da   \n",
       "2513  Latest update broke some features, please fix ...              it   \n",
       "\n",
       "      rating          review_date  verified_purchase     device_type  \\\n",
       "2509     3.0  2023-11-23 01:07:30              False             iOS   \n",
       "2510     1.9  2025-06-05 16:42:20               True   Windows Phone   \n",
       "2511     3.4  2024-06-15 05:02:18               True  Android Tablet   \n",
       "2512     2.7  2023-12-02 01:41:31               True         Android   \n",
       "2513     2.1  2025-03-04 02:51:17               True         Android   \n",
       "\n",
       "      num_helpful_votes  user_age user_country        user_gender  app_version  \n",
       "2509                635      21.0     Malaysia         Non-binary   1.1.2-beta  \n",
       "2510               1127      38.0   Bangladesh                NaN     v12.0.80  \n",
       "2511                677      27.0     Pakistan                NaN  9.1.32.4821  \n",
       "2512                155      35.0        India                NaN      v8.9.13  \n",
       "2513               1040      26.0   Bangladesh  Prefer not to say          2.2  "
      ]
     },
     "execution_count": 3,
     "metadata": {},
     "output_type": "execute_result"
    }
   ],
   "source": [
    "df.tail()"
   ]
  },
  {
   "cell_type": "code",
   "execution_count": 4,
   "id": "9921400d",
   "metadata": {
    "execution": {
     "iopub.execute_input": "2025-08-29T05:26:55.078455Z",
     "iopub.status.busy": "2025-08-29T05:26:55.078108Z",
     "iopub.status.idle": "2025-08-29T05:26:55.104379Z",
     "shell.execute_reply": "2025-08-29T05:26:55.103113Z"
    },
    "papermill": {
     "duration": 0.034114,
     "end_time": "2025-08-29T05:26:55.105876",
     "exception": false,
     "start_time": "2025-08-29T05:26:55.071762",
     "status": "completed"
    },
    "tags": []
   },
   "outputs": [
    {
     "name": "stdout",
     "output_type": "stream",
     "text": [
      "<class 'pandas.core.frame.DataFrame'>\n",
      "RangeIndex: 2514 entries, 0 to 2513\n",
      "Data columns (total 15 columns):\n",
      " #   Column             Non-Null Count  Dtype  \n",
      "---  ------             --------------  -----  \n",
      " 0   review_id          2514 non-null   int64  \n",
      " 1   user_id            2514 non-null   int64  \n",
      " 2   app_name           2514 non-null   object \n",
      " 3   app_category       2514 non-null   object \n",
      " 4   review_text        2455 non-null   object \n",
      " 5   review_language    2514 non-null   object \n",
      " 6   rating             2477 non-null   float64\n",
      " 7   review_date        2514 non-null   object \n",
      " 8   verified_purchase  2514 non-null   bool   \n",
      " 9   device_type        2514 non-null   object \n",
      " 10  num_helpful_votes  2514 non-null   int64  \n",
      " 11  user_age           2514 non-null   float64\n",
      " 12  user_country       2473 non-null   object \n",
      " 13  user_gender        1927 non-null   object \n",
      " 14  app_version        2484 non-null   object \n",
      "dtypes: bool(1), float64(2), int64(3), object(9)\n",
      "memory usage: 277.6+ KB\n"
     ]
    }
   ],
   "source": [
    "df.info()"
   ]
  },
  {
   "cell_type": "code",
   "execution_count": 5,
   "id": "69fd45c0",
   "metadata": {
    "execution": {
     "iopub.execute_input": "2025-08-29T05:26:55.118415Z",
     "iopub.status.busy": "2025-08-29T05:26:55.117969Z",
     "iopub.status.idle": "2025-08-29T05:26:55.127303Z",
     "shell.execute_reply": "2025-08-29T05:26:55.126329Z"
    },
    "papermill": {
     "duration": 0.017348,
     "end_time": "2025-08-29T05:26:55.128704",
     "exception": false,
     "start_time": "2025-08-29T05:26:55.111356",
     "status": "completed"
    },
    "tags": []
   },
   "outputs": [
    {
     "data": {
      "text/plain": [
       "review_id              0\n",
       "user_id                0\n",
       "app_name               0\n",
       "app_category           0\n",
       "review_text           59\n",
       "review_language        0\n",
       "rating                37\n",
       "review_date            0\n",
       "verified_purchase      0\n",
       "device_type            0\n",
       "num_helpful_votes      0\n",
       "user_age               0\n",
       "user_country          41\n",
       "user_gender          587\n",
       "app_version           30\n",
       "dtype: int64"
      ]
     },
     "execution_count": 5,
     "metadata": {},
     "output_type": "execute_result"
    }
   ],
   "source": [
    "df.isna().sum()"
   ]
  },
  {
   "cell_type": "code",
   "execution_count": 6,
   "id": "313302ed",
   "metadata": {
    "execution": {
     "iopub.execute_input": "2025-08-29T05:26:55.141491Z",
     "iopub.status.busy": "2025-08-29T05:26:55.141150Z",
     "iopub.status.idle": "2025-08-29T05:26:55.164331Z",
     "shell.execute_reply": "2025-08-29T05:26:55.163248Z"
    },
    "papermill": {
     "duration": 0.031545,
     "end_time": "2025-08-29T05:26:55.165916",
     "exception": false,
     "start_time": "2025-08-29T05:26:55.134371",
     "status": "completed"
    },
    "tags": []
   },
   "outputs": [
    {
     "data": {
      "text/html": [
       "<div>\n",
       "<style scoped>\n",
       "    .dataframe tbody tr th:only-of-type {\n",
       "        vertical-align: middle;\n",
       "    }\n",
       "\n",
       "    .dataframe tbody tr th {\n",
       "        vertical-align: top;\n",
       "    }\n",
       "\n",
       "    .dataframe thead th {\n",
       "        text-align: right;\n",
       "    }\n",
       "</style>\n",
       "<table border=\"1\" class=\"dataframe\">\n",
       "  <thead>\n",
       "    <tr style=\"text-align: right;\">\n",
       "      <th></th>\n",
       "      <th>review_id</th>\n",
       "      <th>user_id</th>\n",
       "      <th>rating</th>\n",
       "      <th>num_helpful_votes</th>\n",
       "      <th>user_age</th>\n",
       "    </tr>\n",
       "  </thead>\n",
       "  <tbody>\n",
       "    <tr>\n",
       "      <th>count</th>\n",
       "      <td>2514.000000</td>\n",
       "      <td>2.514000e+03</td>\n",
       "      <td>2477.000000</td>\n",
       "      <td>2514.000000</td>\n",
       "      <td>2514.000000</td>\n",
       "    </tr>\n",
       "    <tr>\n",
       "      <th>mean</th>\n",
       "      <td>1257.500000</td>\n",
       "      <td>5.080737e+06</td>\n",
       "      <td>3.021034</td>\n",
       "      <td>616.704057</td>\n",
       "      <td>44.247812</td>\n",
       "    </tr>\n",
       "    <tr>\n",
       "      <th>std</th>\n",
       "      <td>725.873612</td>\n",
       "      <td>2.846939e+06</td>\n",
       "      <td>1.149955</td>\n",
       "      <td>363.745326</td>\n",
       "      <td>18.372290</td>\n",
       "    </tr>\n",
       "    <tr>\n",
       "      <th>min</th>\n",
       "      <td>1.000000</td>\n",
       "      <td>1.005990e+05</td>\n",
       "      <td>1.000000</td>\n",
       "      <td>0.000000</td>\n",
       "      <td>13.000000</td>\n",
       "    </tr>\n",
       "    <tr>\n",
       "      <th>25%</th>\n",
       "      <td>629.250000</td>\n",
       "      <td>2.595184e+06</td>\n",
       "      <td>2.100000</td>\n",
       "      <td>287.250000</td>\n",
       "      <td>28.000000</td>\n",
       "    </tr>\n",
       "    <tr>\n",
       "      <th>50%</th>\n",
       "      <td>1257.500000</td>\n",
       "      <td>5.059846e+06</td>\n",
       "      <td>3.000000</td>\n",
       "      <td>620.000000</td>\n",
       "      <td>44.000000</td>\n",
       "    </tr>\n",
       "    <tr>\n",
       "      <th>75%</th>\n",
       "      <td>1885.750000</td>\n",
       "      <td>7.571874e+06</td>\n",
       "      <td>4.000000</td>\n",
       "      <td>920.750000</td>\n",
       "      <td>60.000000</td>\n",
       "    </tr>\n",
       "    <tr>\n",
       "      <th>max</th>\n",
       "      <td>2514.000000</td>\n",
       "      <td>9.995027e+06</td>\n",
       "      <td>5.000000</td>\n",
       "      <td>1249.000000</td>\n",
       "      <td>75.000000</td>\n",
       "    </tr>\n",
       "  </tbody>\n",
       "</table>\n",
       "</div>"
      ],
      "text/plain": [
       "         review_id       user_id       rating  num_helpful_votes     user_age\n",
       "count  2514.000000  2.514000e+03  2477.000000        2514.000000  2514.000000\n",
       "mean   1257.500000  5.080737e+06     3.021034         616.704057    44.247812\n",
       "std     725.873612  2.846939e+06     1.149955         363.745326    18.372290\n",
       "min       1.000000  1.005990e+05     1.000000           0.000000    13.000000\n",
       "25%     629.250000  2.595184e+06     2.100000         287.250000    28.000000\n",
       "50%    1257.500000  5.059846e+06     3.000000         620.000000    44.000000\n",
       "75%    1885.750000  7.571874e+06     4.000000         920.750000    60.000000\n",
       "max    2514.000000  9.995027e+06     5.000000        1249.000000    75.000000"
      ]
     },
     "execution_count": 6,
     "metadata": {},
     "output_type": "execute_result"
    }
   ],
   "source": [
    "df.describe()"
   ]
  },
  {
   "cell_type": "markdown",
   "id": "85d787ba",
   "metadata": {
    "papermill": {
     "duration": 0.00607,
     "end_time": "2025-08-29T05:26:55.177791",
     "exception": false,
     "start_time": "2025-08-29T05:26:55.171721",
     "status": "completed"
    },
    "tags": []
   },
   "source": [
    "#  Sentiment Prediction "
   ]
  },
  {
   "cell_type": "code",
   "execution_count": 7,
   "id": "2de9c0cf",
   "metadata": {
    "execution": {
     "iopub.execute_input": "2025-08-29T05:26:55.190621Z",
     "iopub.status.busy": "2025-08-29T05:26:55.190280Z",
     "iopub.status.idle": "2025-08-29T05:26:55.199629Z",
     "shell.execute_reply": "2025-08-29T05:26:55.198316Z"
    },
    "papermill": {
     "duration": 0.017516,
     "end_time": "2025-08-29T05:26:55.201170",
     "exception": false,
     "start_time": "2025-08-29T05:26:55.183654",
     "status": "completed"
    },
    "tags": []
   },
   "outputs": [],
   "source": [
    "df_sentiment=df[[\"review_text\",\"rating\",\"num_helpful_votes\",\"verified_purchase\"]]"
   ]
  },
  {
   "cell_type": "code",
   "execution_count": 8,
   "id": "ba47f398",
   "metadata": {
    "execution": {
     "iopub.execute_input": "2025-08-29T05:26:55.213981Z",
     "iopub.status.busy": "2025-08-29T05:26:55.213692Z",
     "iopub.status.idle": "2025-08-29T05:26:55.222618Z",
     "shell.execute_reply": "2025-08-29T05:26:55.221535Z"
    },
    "papermill": {
     "duration": 0.017071,
     "end_time": "2025-08-29T05:26:55.224257",
     "exception": false,
     "start_time": "2025-08-29T05:26:55.207186",
     "status": "completed"
    },
    "tags": []
   },
   "outputs": [],
   "source": [
    "df_sentiment=df_sentiment.dropna(subset=[\"review_text\"])"
   ]
  },
  {
   "cell_type": "code",
   "execution_count": 9,
   "id": "d199d71c",
   "metadata": {
    "execution": {
     "iopub.execute_input": "2025-08-29T05:26:55.237340Z",
     "iopub.status.busy": "2025-08-29T05:26:55.237023Z",
     "iopub.status.idle": "2025-08-29T05:26:55.622448Z",
     "shell.execute_reply": "2025-08-29T05:26:55.621639Z"
    },
    "papermill": {
     "duration": 0.393899,
     "end_time": "2025-08-29T05:26:55.624179",
     "exception": false,
     "start_time": "2025-08-29T05:26:55.230280",
     "status": "completed"
    },
    "tags": []
   },
   "outputs": [
    {
     "data": {
      "image/png": "[encoded data removed]",
      "text/plain": [
       "<Figure size 640x480 with 1 Axes>"
      ]
     },
     "metadata": {},
     "output_type": "display_data"
    }
   ],
   "source": [
    "import matplotlib.pyplot as plt\n",
    "\n",
    "df_sentiment.boxplot(column=\"rating\")\n",
    "plt.show()\n",
    "\n",
    "df_sentiment[\"rating\"]=df_sentiment[\"rating\"].fillna(df_sentiment[\"rating\"].mean())"
   ]
  },
  {
   "cell_type": "code",
   "execution_count": 10,
   "id": "dc15a3d9",
   "metadata": {
    "execution": {
     "iopub.execute_input": "2025-08-29T05:26:55.638642Z",
     "iopub.status.busy": "2025-08-29T05:26:55.637643Z",
     "iopub.status.idle": "2025-08-29T05:26:55.645503Z",
     "shell.execute_reply": "2025-08-29T05:26:55.644622Z"
    },
    "papermill": {
     "duration": 0.016582,
     "end_time": "2025-08-29T05:26:55.647091",
     "exception": false,
     "start_time": "2025-08-29T05:26:55.630509",
     "status": "completed"
    },
    "tags": []
   },
   "outputs": [
    {
     "data": {
      "text/plain": [
       "review_text          0\n",
       "rating               0\n",
       "num_helpful_votes    0\n",
       "verified_purchase    0\n",
       "dtype: int64"
      ]
     },
     "execution_count": 10,
     "metadata": {},
     "output_type": "execute_result"
    }
   ],
   "source": [
    "df_sentiment.isna().sum()"
   ]
  },
  {
   "cell_type": "code",
   "execution_count": 11,
   "id": "71936f90",
   "metadata": {
    "execution": {
     "iopub.execute_input": "2025-08-29T05:26:55.660530Z",
     "iopub.status.busy": "2025-08-29T05:26:55.660181Z",
     "iopub.status.idle": "2025-08-29T05:26:55.669189Z",
     "shell.execute_reply": "2025-08-29T05:26:55.668282Z"
    },
    "papermill": {
     "duration": 0.017392,
     "end_time": "2025-08-29T05:26:55.670626",
     "exception": false,
     "start_time": "2025-08-29T05:26:55.653234",
     "status": "completed"
    },
    "tags": []
   },
   "outputs": [
    {
     "data": {
      "text/plain": [
       "verified_purchase\n",
       "True     1891\n",
       "False     564\n",
       "Name: count, dtype: int64"
      ]
     },
     "execution_count": 11,
     "metadata": {},
     "output_type": "execute_result"
    }
   ],
   "source": [
    "df_sentiment[\"verified_purchase\"].value_counts()"
   ]
  },
  {
   "cell_type": "code",
   "execution_count": 12,
   "id": "5e74af03",
   "metadata": {
    "execution": {
     "iopub.execute_input": "2025-08-29T05:26:55.684516Z",
     "iopub.status.busy": "2025-08-29T05:26:55.683879Z",
     "iopub.status.idle": "2025-08-29T05:26:55.691336Z",
     "shell.execute_reply": "2025-08-29T05:26:55.690283Z"
    },
    "papermill": {
     "duration": 0.016163,
     "end_time": "2025-08-29T05:26:55.692921",
     "exception": false,
     "start_time": "2025-08-29T05:26:55.676758",
     "status": "completed"
    },
    "tags": []
   },
   "outputs": [
    {
     "name": "stdout",
     "output_type": "stream",
     "text": [
      "verified_purchase\n",
      "True    1891\n",
      "Name: count, dtype: int64\n"
     ]
    }
   ],
   "source": [
    "df_sentiment = df_sentiment[df_sentiment[\"verified_purchase\"]]\n",
    "print(df_sentiment[\"verified_purchase\"].value_counts())"
   ]
  },
  {
   "cell_type": "code",
   "execution_count": 13,
   "id": "b267e94a",
   "metadata": {
    "execution": {
     "iopub.execute_input": "2025-08-29T05:26:55.707262Z",
     "iopub.status.busy": "2025-08-29T05:26:55.706398Z",
     "iopub.status.idle": "2025-08-29T05:26:55.714025Z",
     "shell.execute_reply": "2025-08-29T05:26:55.713119Z"
    },
    "papermill": {
     "duration": 0.016188,
     "end_time": "2025-08-29T05:26:55.715538",
     "exception": false,
     "start_time": "2025-08-29T05:26:55.699350",
     "status": "completed"
    },
    "tags": []
   },
   "outputs": [
    {
     "data": {
      "text/plain": [
       "verified_purchase\n",
       "True    1891\n",
       "Name: count, dtype: int64"
      ]
     },
     "execution_count": 13,
     "metadata": {},
     "output_type": "execute_result"
    }
   ],
   "source": [
    "df_sentiment[\"verified_purchase\"].value_counts()"
   ]
  },
  {
   "cell_type": "code",
   "execution_count": 14,
   "id": "3852a715",
   "metadata": {
    "execution": {
     "iopub.execute_input": "2025-08-29T05:26:55.729347Z",
     "iopub.status.busy": "2025-08-29T05:26:55.729027Z",
     "iopub.status.idle": "2025-08-29T05:26:55.736341Z",
     "shell.execute_reply": "2025-08-29T05:26:55.735125Z"
    },
    "papermill": {
     "duration": 0.015884,
     "end_time": "2025-08-29T05:26:55.737882",
     "exception": false,
     "start_time": "2025-08-29T05:26:55.721998",
     "status": "completed"
    },
    "tags": []
   },
   "outputs": [],
   "source": [
    "rat_mean=df_sentiment[\"rating\"].mean()\n",
    "\n",
    "df_sentiment[\"sentiment\"]=df_sentiment[\"rating\"].apply(lambda x:\"positive\" if x>rat_mean else \"negative\")\n"
   ]
  },
  {
   "cell_type": "code",
   "execution_count": 15,
   "id": "02706bca",
   "metadata": {
    "execution": {
     "iopub.execute_input": "2025-08-29T05:26:55.751921Z",
     "iopub.status.busy": "2025-08-29T05:26:55.751333Z",
     "iopub.status.idle": "2025-08-29T05:26:55.757072Z",
     "shell.execute_reply": "2025-08-29T05:26:55.756135Z"
    },
    "papermill": {
     "duration": 0.014151,
     "end_time": "2025-08-29T05:26:55.758483",
     "exception": false,
     "start_time": "2025-08-29T05:26:55.744332",
     "status": "completed"
    },
    "tags": []
   },
   "outputs": [
    {
     "data": {
      "text/plain": [
       "3.026715988275839"
      ]
     },
     "execution_count": 15,
     "metadata": {},
     "output_type": "execute_result"
    }
   ],
   "source": [
    "rat_mean"
   ]
  },
  {
   "cell_type": "code",
   "execution_count": 16,
   "id": "a27eb856",
   "metadata": {
    "execution": {
     "iopub.execute_input": "2025-08-29T05:26:55.772529Z",
     "iopub.status.busy": "2025-08-29T05:26:55.771866Z",
     "iopub.status.idle": "2025-08-29T05:26:55.782613Z",
     "shell.execute_reply": "2025-08-29T05:26:55.781615Z"
    },
    "papermill": {
     "duration": 0.019295,
     "end_time": "2025-08-29T05:26:55.784104",
     "exception": false,
     "start_time": "2025-08-29T05:26:55.764809",
     "status": "completed"
    },
    "tags": []
   },
   "outputs": [
    {
     "name": "stdout",
     "output_type": "stream",
     "text": [
      "<class 'pandas.core.frame.DataFrame'>\n",
      "Index: 1891 entries, 0 to 2513\n",
      "Data columns (total 5 columns):\n",
      " #   Column             Non-Null Count  Dtype  \n",
      "---  ------             --------------  -----  \n",
      " 0   review_text        1891 non-null   object \n",
      " 1   rating             1891 non-null   float64\n",
      " 2   num_helpful_votes  1891 non-null   int64  \n",
      " 3   verified_purchase  1891 non-null   bool   \n",
      " 4   sentiment          1891 non-null   object \n",
      "dtypes: bool(1), float64(1), int64(1), object(2)\n",
      "memory usage: 75.7+ KB\n"
     ]
    }
   ],
   "source": [
    "df_sentiment.info()"
   ]
  },
  {
   "cell_type": "code",
   "execution_count": 17,
   "id": "aa2667c5",
   "metadata": {
    "execution": {
     "iopub.execute_input": "2025-08-29T05:26:55.798324Z",
     "iopub.status.busy": "2025-08-29T05:26:55.797976Z",
     "iopub.status.idle": "2025-08-29T05:27:01.098483Z",
     "shell.execute_reply": "2025-08-29T05:27:01.097487Z"
    },
    "papermill": {
     "duration": 5.309744,
     "end_time": "2025-08-29T05:27:01.100366",
     "exception": false,
     "start_time": "2025-08-29T05:26:55.790622",
     "status": "completed"
    },
    "tags": []
   },
   "outputs": [
    {
     "name": "stdout",
     "output_type": "stream",
     "text": [
      "Collecting deep-translator\r\n",
      "  Downloading deep_translator-1.11.4-py3-none-any.whl.metadata (30 kB)\r\n",
      "Requirement already satisfied: beautifulsoup4<5.0.0,>=4.9.1 in /usr/local/lib/python3.11/dist-packages (from deep-translator) (4.13.4)\r\n",
      "Requirement already satisfied: requests<3.0.0,>=2.23.0 in /usr/local/lib/python3.11/dist-packages (from deep-translator) (2.32.4)\r\n",
      "Requirement already satisfied: soupsieve>1.2 in /usr/local/lib/python3.11/dist-packages (from beautifulsoup4<5.0.0,>=4.9.1->deep-translator) (2.7)\r\n",
      "Requirement already satisfied: typing-extensions>=4.0.0 in /usr/local/lib/python3.11/dist-packages (from beautifulsoup4<5.0.0,>=4.9.1->deep-translator) (4.14.0)\r\n",
      "Requirement already satisfied: charset_normalizer<4,>=2 in /usr/local/lib/python3.11/dist-packages (from requests<3.0.0,>=2.23.0->deep-translator) (3.4.2)\r\n",
      "Requirement already satisfied: idna<4,>=2.5 in /usr/local/lib/python3.11/dist-packages (from requests<3.0.0,>=2.23.0->deep-translator) (3.10)\r\n",
      "Requirement already satisfied: urllib3<3,>=1.21.1 in /usr/local/lib/python3.11/dist-packages (from requests<3.0.0,>=2.23.0->deep-translator) (2.5.0)\r\n",
      "Requirement already satisfied: certifi>=2017.4.17 in /usr/local/lib/python3.11/dist-packages (from requests<3.0.0,>=2.23.0->deep-translator) (2025.6.15)\r\n",
      "Downloading deep_translator-1.11.4-py3-none-any.whl (42 kB)\r\n",
      "\u001b[2K   \u001b[90m━━━━━━━━━━━━━━━━━━━━━━━━━━━━━━━━━━━━━━━━\u001b[0m \u001b[32m42.3/42.3 kB\u001b[0m \u001b[31m1.9 MB/s\u001b[0m eta \u001b[36m0:00:00\u001b[0m\r\n",
      "\u001b[?25hInstalling collected packages: deep-translator\r\n",
      "Successfully installed deep-translator-1.11.4\r\n"
     ]
    }
   ],
   "source": [
    "!pip install deep-translator"
   ]
  },
  {
   "cell_type": "code",
   "execution_count": 18,
   "id": "b494325f",
   "metadata": {
    "execution": {
     "iopub.execute_input": "2025-08-29T05:27:01.116034Z",
     "iopub.status.busy": "2025-08-29T05:27:01.115701Z",
     "iopub.status.idle": "2025-08-29T05:35:49.441334Z",
     "shell.execute_reply": "2025-08-29T05:35:49.440362Z"
    },
    "papermill": {
     "duration": 528.335622,
     "end_time": "2025-08-29T05:35:49.443119",
     "exception": false,
     "start_time": "2025-08-29T05:27:01.107497",
     "status": "completed"
    },
    "tags": []
   },
   "outputs": [],
   "source": [
    "from deep_translator import GoogleTranslator\n",
    "\n",
    "df_sentiment[\"review_text_en\"] = df_sentiment[\"review_text\"].apply( lambda x: GoogleTranslator(source='auto', target='en').translate(x))"
   ]
  },
  {
   "cell_type": "code",
   "execution_count": 19,
   "id": "6fb1839b",
   "metadata": {
    "execution": {
     "iopub.execute_input": "2025-08-29T05:35:49.459629Z",
     "iopub.status.busy": "2025-08-29T05:35:49.458639Z",
     "iopub.status.idle": "2025-08-29T05:35:49.470280Z",
     "shell.execute_reply": "2025-08-29T05:35:49.469370Z"
    },
    "papermill": {
     "duration": 0.020804,
     "end_time": "2025-08-29T05:35:49.471804",
     "exception": false,
     "start_time": "2025-08-29T05:35:49.451000",
     "status": "completed"
    },
    "tags": []
   },
   "outputs": [
    {
     "data": {
      "text/html": [
       "<div>\n",
       "<style scoped>\n",
       "    .dataframe tbody tr th:only-of-type {\n",
       "        vertical-align: middle;\n",
       "    }\n",
       "\n",
       "    .dataframe tbody tr th {\n",
       "        vertical-align: top;\n",
       "    }\n",
       "\n",
       "    .dataframe thead th {\n",
       "        text-align: right;\n",
       "    }\n",
       "</style>\n",
       "<table border=\"1\" class=\"dataframe\">\n",
       "  <thead>\n",
       "    <tr style=\"text-align: right;\">\n",
       "      <th></th>\n",
       "      <th>review_text</th>\n",
       "      <th>rating</th>\n",
       "      <th>num_helpful_votes</th>\n",
       "      <th>verified_purchase</th>\n",
       "      <th>sentiment</th>\n",
       "      <th>review_text_en</th>\n",
       "    </tr>\n",
       "  </thead>\n",
       "  <tbody>\n",
       "    <tr>\n",
       "      <th>2508</th>\n",
       "      <td>功能一些工具因为全国解决以上注意. 然后这么包括女人根据那个.</td>\n",
       "      <td>4.8</td>\n",
       "      <td>649</td>\n",
       "      <td>True</td>\n",
       "      <td>positive</td>\n",
       "      <td>Function some tools are solved by the above at...</td>\n",
       "    </tr>\n",
       "    <tr>\n",
       "      <th>2510</th>\n",
       "      <td>This app is amazing! Really love the new featu...</td>\n",
       "      <td>1.9</td>\n",
       "      <td>1127</td>\n",
       "      <td>True</td>\n",
       "      <td>negative</td>\n",
       "      <td>This app is amazing! Really love the new featu...</td>\n",
       "    </tr>\n",
       "    <tr>\n",
       "      <th>2511</th>\n",
       "      <td>This app is amazing! Really love the new featu...</td>\n",
       "      <td>3.4</td>\n",
       "      <td>677</td>\n",
       "      <td>True</td>\n",
       "      <td>positive</td>\n",
       "      <td>This app is amazing! Really love the new featu...</td>\n",
       "    </tr>\n",
       "    <tr>\n",
       "      <th>2512</th>\n",
       "      <td>Invitare convincere pericoloso corsa fortuna. ...</td>\n",
       "      <td>2.7</td>\n",
       "      <td>155</td>\n",
       "      <td>True</td>\n",
       "      <td>negative</td>\n",
       "      <td>Invite convincing dangerous luck. Mom equal in...</td>\n",
       "    </tr>\n",
       "    <tr>\n",
       "      <th>2513</th>\n",
       "      <td>Latest update broke some features, please fix ...</td>\n",
       "      <td>2.1</td>\n",
       "      <td>1040</td>\n",
       "      <td>True</td>\n",
       "      <td>negative</td>\n",
       "      <td>Latest update broke some features, please fix ...</td>\n",
       "    </tr>\n",
       "  </tbody>\n",
       "</table>\n",
       "</div>"
      ],
      "text/plain": [
       "                                            review_text  rating  \\\n",
       "2508                    功能一些工具因为全国解决以上注意. 然后这么包括女人根据那个.     4.8   \n",
       "2510  This app is amazing! Really love the new featu...     1.9   \n",
       "2511  This app is amazing! Really love the new featu...     3.4   \n",
       "2512  Invitare convincere pericoloso corsa fortuna. ...     2.7   \n",
       "2513  Latest update broke some features, please fix ...     2.1   \n",
       "\n",
       "      num_helpful_votes  verified_purchase sentiment  \\\n",
       "2508                649               True  positive   \n",
       "2510               1127               True  negative   \n",
       "2511                677               True  positive   \n",
       "2512                155               True  negative   \n",
       "2513               1040               True  negative   \n",
       "\n",
       "                                         review_text_en  \n",
       "2508  Function some tools are solved by the above at...  \n",
       "2510  This app is amazing! Really love the new featu...  \n",
       "2511  This app is amazing! Really love the new featu...  \n",
       "2512  Invite convincing dangerous luck. Mom equal in...  \n",
       "2513  Latest update broke some features, please fix ...  "
      ]
     },
     "execution_count": 19,
     "metadata": {},
     "output_type": "execute_result"
    }
   ],
   "source": [
    "df_sentiment.tail(5)"
   ]
  },
  {
   "cell_type": "code",
   "execution_count": 20,
   "id": "791dc210",
   "metadata": {
    "execution": {
     "iopub.execute_input": "2025-08-29T05:35:49.487085Z",
     "iopub.status.busy": "2025-08-29T05:35:49.486778Z",
     "iopub.status.idle": "2025-08-29T05:35:55.753980Z",
     "shell.execute_reply": "2025-08-29T05:35:55.753009Z"
    },
    "papermill": {
     "duration": 6.276947,
     "end_time": "2025-08-29T05:35:55.755633",
     "exception": false,
     "start_time": "2025-08-29T05:35:49.478686",
     "status": "completed"
    },
    "tags": []
   },
   "outputs": [
    {
     "name": "stderr",
     "output_type": "stream",
     "text": [
      "[nltk_data] Downloading package stopwords to /usr/share/nltk_data...\n",
      "[nltk_data]   Package stopwords is already up-to-date!\n"
     ]
    }
   ],
   "source": [
    "import re\n",
    "import nltk\n",
    "from nltk.corpus import stopwords\n",
    "from nltk.stem import WordNetLemmatizer\n",
    "from nltk.tokenize import word_tokenize\n",
    "\n",
    "nltk.download(\"stopwords\")\n",
    "\n",
    "lemmatizer=WordNetLemmatizer()\n",
    "stop_words=set(stopwords.words(\"english\"))\n",
    "\n",
    "\n",
    "def clean_text(text):\n",
    "    text=text.lower()\n",
    "    text = re.sub(r'[^\\w\\s]', '', text)   \n",
    "    text = re.sub(r'\\d+', '', text)\n",
    "    tokens=word_tokenize(text)\n",
    "    tokens=[word for word in tokens if word not in stop_words]\n",
    "    tokens=[lemmatizer.lemmatize(word)for word in tokens]\n",
    "    text=\" \".join(tokens)\n",
    "    return text.strip()\n",
    "\n",
    "df_sentiment[\"review_text_en\"]=df_sentiment[\"review_text_en\"].apply(clean_text)"
   ]
  },
  {
   "cell_type": "code",
   "execution_count": 21,
   "id": "acfd26c4",
   "metadata": {
    "execution": {
     "iopub.execute_input": "2025-08-29T05:35:55.771228Z",
     "iopub.status.busy": "2025-08-29T05:35:55.770763Z",
     "iopub.status.idle": "2025-08-29T05:35:55.777727Z",
     "shell.execute_reply": "2025-08-29T05:35:55.777000Z"
    },
    "papermill": {
     "duration": 0.016179,
     "end_time": "2025-08-29T05:35:55.779012",
     "exception": false,
     "start_time": "2025-08-29T05:35:55.762833",
     "status": "completed"
    },
    "tags": []
   },
   "outputs": [
    {
     "data": {
      "text/plain": [
       "1189                  bug need fixing generally satisfied\n",
       "916       blinded find resistance follow body follow body\n",
       "1498          perfect daily use highly recommend everyone\n",
       "206     excellent customer support regular feature update\n",
       "768            great app many ad consider premium version\n",
       "Name: review_text_en, dtype: object"
      ]
     },
     "execution_count": 21,
     "metadata": {},
     "output_type": "execute_result"
    }
   ],
   "source": [
    "df_sentiment[\"review_text_en\"].sample(5)"
   ]
  },
  {
   "cell_type": "code",
   "execution_count": 22,
   "id": "3958272e",
   "metadata": {
    "execution": {
     "iopub.execute_input": "2025-08-29T05:35:55.796977Z",
     "iopub.status.busy": "2025-08-29T05:35:55.796664Z",
     "iopub.status.idle": "2025-08-29T05:35:55.854995Z",
     "shell.execute_reply": "2025-08-29T05:35:55.854010Z"
    },
    "papermill": {
     "duration": 0.070887,
     "end_time": "2025-08-29T05:35:55.856838",
     "exception": false,
     "start_time": "2025-08-29T05:35:55.785951",
     "status": "completed"
    },
    "tags": []
   },
   "outputs": [],
   "source": [
    "from sklearn.feature_extraction.text import TfidfVectorizer\n",
    "\n",
    "x=df_sentiment[\"review_text_en\"]\n",
    "y=df_sentiment[\"sentiment\"]\n",
    "\n",
    "tfidf=TfidfVectorizer(max_features=1000,ngram_range=(1,2))\n",
    "\n",
    "x=tfidf.fit_transform(x)\n"
   ]
  },
  {
   "cell_type": "code",
   "execution_count": 23,
   "id": "01f42de1",
   "metadata": {
    "execution": {
     "iopub.execute_input": "2025-08-29T05:35:55.873401Z",
     "iopub.status.busy": "2025-08-29T05:35:55.872572Z",
     "iopub.status.idle": "2025-08-29T05:35:55.922884Z",
     "shell.execute_reply": "2025-08-29T05:35:55.921883Z"
    },
    "papermill": {
     "duration": 0.060549,
     "end_time": "2025-08-29T05:35:55.924686",
     "exception": false,
     "start_time": "2025-08-29T05:35:55.864137",
     "status": "completed"
    },
    "tags": []
   },
   "outputs": [],
   "source": [
    "from sklearn.naive_bayes import MultinomialNB\n",
    "from sklearn.model_selection import train_test_split\n",
    "\n",
    "train_x,val_x,train_y,val_y=train_test_split(x,y,test_size=0.2,random_state=42)\n",
    "\n",
    "train_x_dense = train_x.toarray()\n",
    "val_x_dense = val_x.toarray()\n",
    "\n",
    "mnb=MultinomialNB()\n",
    "\n",
    "model=mnb.fit(train_x_dense,train_y)\n",
    "\n",
    "pred=model.predict(val_x_dense)\n",
    "true=val_y"
   ]
  },
  {
   "cell_type": "code",
   "execution_count": 24,
   "id": "3d307e4b",
   "metadata": {
    "execution": {
     "iopub.execute_input": "2025-08-29T05:35:55.942883Z",
     "iopub.status.busy": "2025-08-29T05:35:55.942535Z",
     "iopub.status.idle": "2025-08-29T05:35:55.964273Z",
     "shell.execute_reply": "2025-08-29T05:35:55.963303Z"
    },
    "papermill": {
     "duration": 0.032181,
     "end_time": "2025-08-29T05:35:55.965827",
     "exception": false,
     "start_time": "2025-08-29T05:35:55.933646",
     "status": "completed"
    },
    "tags": []
   },
   "outputs": [
    {
     "name": "stdout",
     "output_type": "stream",
     "text": [
      "0.525065963060686\n",
      "              precision    recall  f1-score   support\n",
      "\n",
      "    negative       0.54      0.55      0.55       195\n",
      "    positive       0.51      0.49      0.50       184\n",
      "\n",
      "    accuracy                           0.53       379\n",
      "   macro avg       0.52      0.52      0.52       379\n",
      "weighted avg       0.52      0.53      0.52       379\n",
      "\n"
     ]
    }
   ],
   "source": [
    "from sklearn.metrics import accuracy_score, confusion_matrix, classification_report,  f1_score\n",
    "\n",
    "print(accuracy_score(true,pred))\n",
    "print(classification_report(true,pred))"
   ]
  },
  {
   "cell_type": "code",
   "execution_count": 25,
   "id": "bc424513",
   "metadata": {
    "execution": {
     "iopub.execute_input": "2025-08-29T05:35:55.981416Z",
     "iopub.status.busy": "2025-08-29T05:35:55.981098Z",
     "iopub.status.idle": "2025-08-29T05:35:56.711537Z",
     "shell.execute_reply": "2025-08-29T05:35:56.710349Z"
    },
    "papermill": {
     "duration": 0.740099,
     "end_time": "2025-08-29T05:35:56.713215",
     "exception": false,
     "start_time": "2025-08-29T05:35:55.973116",
     "status": "completed"
    },
    "tags": []
   },
   "outputs": [
    {
     "data": {
      "image/png": "[encoded data removed]",
      "text/plain": [
       "<Figure size 600x500 with 2 Axes>"
      ]
     },
     "metadata": {},
     "output_type": "display_data"
    }
   ],
   "source": [
    "import matplotlib.pyplot as plt\n",
    "import seaborn as sns\n",
    "\n",
    "cm=confusion_matrix(true,pred,labels=[\"positive\",\"negative\"])\n",
    "plt.figure(figsize=(6,5))\n",
    "sns.heatmap(cm, annot=True, fmt='d', cmap='Blues', xticklabels=['positive', 'negative'], yticklabels=['positive', 'negative'])\n",
    "plt.xlabel('Predicted')\n",
    "plt.ylabel('Actual')\n",
    "plt.title(\"sentiment confusion matrix\")\n",
    "plt.show()"
   ]
  },
  {
   "cell_type": "code",
   "execution_count": null,
   "id": "096991b4",
   "metadata": {
    "papermill": {
     "duration": 0.007386,
     "end_time": "2025-08-29T05:35:56.728591",
     "exception": false,
     "start_time": "2025-08-29T05:35:56.721205",
     "status": "completed"
    },
    "tags": []
   },
   "outputs": [],
   "source": []
  },
  {
   "cell_type": "code",
   "execution_count": null,
   "id": "091775ce",
   "metadata": {
    "papermill": {
     "duration": 0.007753,
     "end_time": "2025-08-29T05:35:56.743839",
     "exception": false,
     "start_time": "2025-08-29T05:35:56.736086",
     "status": "completed"
    },
    "tags": []
   },
   "outputs": [],
   "source": []
  }
 ],
 "metadata": {
  "kaggle": {
   "accelerator": "none",
   "dataSources": [
    {
     "datasetId": 7978540,
     "sourceId": 12627315,
     "sourceType": "datasetVersion"
    }
   ],
   "dockerImageVersionId": 31089,
   "isGpuEnabled": false,
   "isInternetEnabled": true,
   "language": "python",
   "sourceType": "notebook"
  },
  "kernelspec": {
   "display_name": "Python 3",
   "language": "python",
   "name": "python3"
  },
  "language_info": {
   "codemirror_mode": {
    "name": "ipython",
    "version": 3
   },
   "file_extension": ".py",
   "mimetype": "text/x-python",
   "name": "python",
   "nbconvert_exporter": "python",
   "pygments_lexer": "ipython3",
   "version": "3.11.13"
  },
  "papermill": {
   "default_parameters": {},
   "duration": 550.428507,
   "end_time": "2025-08-29T05:35:58.075603",
   "environment_variables": {},
   "exception": null,
   "input_path": "__notebook__.ipynb",
   "output_path": "__notebook__.ipynb",
   "parameters": {},
   "start_time": "2025-08-29T05:26:47.647096",
   "version": "2.6.0"
  }
 },
 "nbformat": 4,
 "nbformat_minor": 5
}
